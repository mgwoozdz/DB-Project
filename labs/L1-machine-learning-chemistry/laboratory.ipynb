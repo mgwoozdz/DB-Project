{
  "nbformat": 4,
  "nbformat_minor": 0,
  "metadata": {
    "kernelspec": {
      "display_name": "Python 3",
      "language": "python",
      "name": "python3"
    },
    "language_info": {
      "codemirror_mode": {
        "name": "ipython",
        "version": 3
      },
      "file_extension": ".py",
      "mimetype": "text/x-python",
      "name": "python",
      "nbconvert_exporter": "python",
      "pygments_lexer": "ipython3",
      "version": "3.8.5"
    },
    "colab": {
      "name": "laboratory.ipynb",
      "provenance": []
    },
    "widgets": {
      "application/vnd.jupyter.widget-state+json": {
        "c94a1447b9064e258c80c0908b38a0ba": {
          "model_module": "@jupyter-widgets/controls",
          "model_name": "VBoxModel",
          "model_module_version": "1.5.0",
          "state": {
            "_view_name": "VBoxView",
            "_dom_classes": [
              "widget-interact"
            ],
            "_model_name": "VBoxModel",
            "_view_module": "@jupyter-widgets/controls",
            "_model_module_version": "1.5.0",
            "_view_count": null,
            "_view_module_version": "1.5.0",
            "box_style": "",
            "layout": "IPY_MODEL_0536490aebd44604944967bdb5e9a145",
            "_model_module": "@jupyter-widgets/controls",
            "children": [
              "IPY_MODEL_65c8e833610b4596aee52d2c585421ac",
              "IPY_MODEL_d274f4bb5e3740f3be894434d4cf10a7"
            ]
          }
        },
        "0536490aebd44604944967bdb5e9a145": {
          "model_module": "@jupyter-widgets/base",
          "model_name": "LayoutModel",
          "model_module_version": "1.2.0",
          "state": {
            "_view_name": "LayoutView",
            "grid_template_rows": null,
            "right": null,
            "justify_content": null,
            "_view_module": "@jupyter-widgets/base",
            "overflow": null,
            "_model_module_version": "1.2.0",
            "_view_count": null,
            "flex_flow": null,
            "width": null,
            "min_width": null,
            "border": null,
            "align_items": null,
            "bottom": null,
            "_model_module": "@jupyter-widgets/base",
            "top": null,
            "grid_column": null,
            "overflow_y": null,
            "overflow_x": null,
            "grid_auto_flow": null,
            "grid_area": null,
            "grid_template_columns": null,
            "flex": null,
            "_model_name": "LayoutModel",
            "justify_items": null,
            "grid_row": null,
            "max_height": null,
            "align_content": null,
            "visibility": null,
            "align_self": null,
            "height": null,
            "min_height": null,
            "padding": null,
            "grid_auto_rows": null,
            "grid_gap": null,
            "max_width": null,
            "order": null,
            "_view_module_version": "1.2.0",
            "grid_template_areas": null,
            "object_position": null,
            "object_fit": null,
            "grid_auto_columns": null,
            "margin": null,
            "display": null,
            "left": null
          }
        },
        "65c8e833610b4596aee52d2c585421ac": {
          "model_module": "@jupyter-widgets/controls",
          "model_name": "TextModel",
          "model_module_version": "1.5.0",
          "state": {
            "_view_name": "TextView",
            "style": "IPY_MODEL_871880d153c145a1ac05f9d2a0b137a6",
            "_dom_classes": [],
            "description": "smiles",
            "_model_name": "TextModel",
            "placeholder": "​",
            "_view_module": "@jupyter-widgets/controls",
            "_model_module_version": "1.5.0",
            "value": "",
            "_view_count": null,
            "disabled": false,
            "_view_module_version": "1.5.0",
            "continuous_update": true,
            "description_tooltip": null,
            "_model_module": "@jupyter-widgets/controls",
            "layout": "IPY_MODEL_8900544f6d5044168adcf1bb9c04831c"
          }
        },
        "d274f4bb5e3740f3be894434d4cf10a7": {
          "model_module": "@jupyter-widgets/output",
          "model_name": "OutputModel",
          "model_module_version": "1.0.0",
          "state": {
            "_view_name": "OutputView",
            "msg_id": "",
            "_dom_classes": [],
            "_model_name": "OutputModel",
            "outputs": [],
            "_view_module": "@jupyter-widgets/output",
            "_model_module_version": "1.0.0",
            "_view_count": null,
            "_view_module_version": "1.0.0",
            "layout": "IPY_MODEL_70f07420d83c47eaa0e0d5a131dccdf9",
            "_model_module": "@jupyter-widgets/output"
          }
        },
        "871880d153c145a1ac05f9d2a0b137a6": {
          "model_module": "@jupyter-widgets/controls",
          "model_name": "DescriptionStyleModel",
          "model_module_version": "1.5.0",
          "state": {
            "_view_name": "StyleView",
            "_model_name": "DescriptionStyleModel",
            "description_width": "",
            "_view_module": "@jupyter-widgets/base",
            "_model_module_version": "1.5.0",
            "_view_count": null,
            "_view_module_version": "1.2.0",
            "_model_module": "@jupyter-widgets/controls"
          }
        },
        "8900544f6d5044168adcf1bb9c04831c": {
          "model_module": "@jupyter-widgets/base",
          "model_name": "LayoutModel",
          "model_module_version": "1.2.0",
          "state": {
            "_view_name": "LayoutView",
            "grid_template_rows": null,
            "right": null,
            "justify_content": null,
            "_view_module": "@jupyter-widgets/base",
            "overflow": null,
            "_model_module_version": "1.2.0",
            "_view_count": null,
            "flex_flow": null,
            "width": null,
            "min_width": null,
            "border": null,
            "align_items": null,
            "bottom": null,
            "_model_module": "@jupyter-widgets/base",
            "top": null,
            "grid_column": null,
            "overflow_y": null,
            "overflow_x": null,
            "grid_auto_flow": null,
            "grid_area": null,
            "grid_template_columns": null,
            "flex": null,
            "_model_name": "LayoutModel",
            "justify_items": null,
            "grid_row": null,
            "max_height": null,
            "align_content": null,
            "visibility": null,
            "align_self": null,
            "height": null,
            "min_height": null,
            "padding": null,
            "grid_auto_rows": null,
            "grid_gap": null,
            "max_width": null,
            "order": null,
            "_view_module_version": "1.2.0",
            "grid_template_areas": null,
            "object_position": null,
            "object_fit": null,
            "grid_auto_columns": null,
            "margin": null,
            "display": null,
            "left": null
          }
        },
        "70f07420d83c47eaa0e0d5a131dccdf9": {
          "model_module": "@jupyter-widgets/base",
          "model_name": "LayoutModel",
          "model_module_version": "1.2.0",
          "state": {
            "_view_name": "LayoutView",
            "grid_template_rows": null,
            "right": null,
            "justify_content": null,
            "_view_module": "@jupyter-widgets/base",
            "overflow": null,
            "_model_module_version": "1.2.0",
            "_view_count": null,
            "flex_flow": null,
            "width": null,
            "min_width": null,
            "border": null,
            "align_items": null,
            "bottom": null,
            "_model_module": "@jupyter-widgets/base",
            "top": null,
            "grid_column": null,
            "overflow_y": null,
            "overflow_x": null,
            "grid_auto_flow": null,
            "grid_area": null,
            "grid_template_columns": null,
            "flex": null,
            "_model_name": "LayoutModel",
            "justify_items": null,
            "grid_row": null,
            "max_height": null,
            "align_content": null,
            "visibility": null,
            "align_self": null,
            "height": null,
            "min_height": null,
            "padding": null,
            "grid_auto_rows": null,
            "grid_gap": null,
            "max_width": null,
            "order": null,
            "_view_module_version": "1.2.0",
            "grid_template_areas": null,
            "object_position": null,
            "object_fit": null,
            "grid_auto_columns": null,
            "margin": null,
            "display": null,
            "left": null
          }
        }
      }
    }
  },
  "cells": [
    {
      "cell_type": "code",
      "metadata": {
        "id": "H05dTOOTO-pR"
      },
      "source": [
        "import sys\n",
        "sys.path.append('..')"
      ],
      "execution_count": 8,
      "outputs": []
    },
    {
      "cell_type": "markdown",
      "metadata": {
        "id": "L7HwB1gjO-pW"
      },
      "source": [
        "**Uwaga! Tylko dla użytkowników Colaba:**"
      ]
    },
    {
      "cell_type": "code",
      "metadata": {
        "id": "O8EeZbVvO-pY"
      },
      "source": [
        "%%bash\n",
        "add-apt-repository ppa:ubuntu-toolchain-r/test\n",
        "apt-get update --fix-missing\n",
        "apt-get dist-upgrade\n",
        "wget -c https://repo.continuum.io/miniconda/Miniconda3-latest-Linux-x86_64.sh\n",
        "chmod +x Miniconda3-latest-Linux-x86_64.sh\n",
        "./Miniconda3-latest-Linux-x86_64.sh -b -f -p /usr/local\n",
        "conda config --set always_yes yes --set changeps1 no\n",
        "conda install -q -y -c conda-forge python=3.7 rdkit"
      ],
      "execution_count": null,
      "outputs": []
    },
    {
      "cell_type": "code",
      "metadata": {
        "colab": {
          "base_uri": "https://localhost:8080/"
        },
        "id": "ugQMm0dlZOzI",
        "outputId": "bcd94f9f-ae20-423f-f31a-79373b263e21"
      },
      "source": [
        "!pip install py3Dmol"
      ],
      "execution_count": 10,
      "outputs": [
        {
          "output_type": "stream",
          "name": "stdout",
          "text": [
            "Requirement already satisfied: py3Dmol in /usr/local/lib/python3.7/site-packages (1.7.0)\n",
            "\u001b[33mWARNING: Running pip as the 'root' user can result in broken permissions and conflicting behaviour with the system package manager. It is recommended to use a virtual environment instead: https://pip.pypa.io/warnings/venv\u001b[0m\n"
          ]
        }
      ]
    },
    {
      "cell_type": "code",
      "metadata": {
        "id": "Gp1RGHiiO-pZ"
      },
      "source": [
        "import sys\n",
        "sys.path.append('/usr/local/lib/python3.7/site-packages/')\n",
        "\n",
        "try:\n",
        "    from rdkit import Chem\n",
        "    from rdkit.Chem.Draw import IPythonConsole\n",
        "except ImportError:\n",
        "    print('Stopping RUNTIME. Colaboratory will restart automatically. Please run cell again.')\n",
        "    exit()"
      ],
      "execution_count": 11,
      "outputs": []
    },
    {
      "cell_type": "markdown",
      "metadata": {
        "id": "Vp4PsDs2O-pa"
      },
      "source": [
        "# Python 🐍\n",
        "\n",
        "## Przygotowanie środowiska\n",
        "\n",
        "Na zajęciach będziemy używać **Pythona**. Instrukcja instalacji potrzebnych paczek znajduje się w README na głównej stronie repozytorium przedmiotu. Większość ćwiczeń odbywać będzie się poprzez notatniki **Jupyter**. Aby uruchomić notatnik należy:\n",
        "\n",
        "1. Uruchomić stworzone środowisko condy: `conda activate mldd`\n",
        "2. Uruchomić serwer Jupyter poleceniem: `jupyter notebook` (najlepiej w folderze `labs`)\n",
        "3. Notatnik powinien się uruchomić automatycznie, ale jeśli się tak nie stanie, to w przeglądarce należy wpisać adres `localhost:8888` (port 8888 jest domyślny, a dokładny port można znaleźć w komunikacie zwróconym przez komendę w poprzednim kroku)\n",
        "\n",
        "Alternatywą jest użycie [**Colaba**](colab.research.google.com), który nie wymaga instalowania paczek i uruchamiania notatnika na własnym komputerze. Obliczenia i wyniki zapisywane są na dysku Google. Minusem tego rozwiązania jest to, że część paczek chemicznych może być trudna do zainstalowania w tym notatniku.\n",
        "\n",
        "## Dla początkujących\n",
        "\n",
        "Kursy Pythona:\n",
        "- Materiały z kursu UJ [\"Python for data processing\"](https://github.com/gmum/python-for-data-processing)\n",
        "- Wykłady z kursu MIT [\"Introduction to Computer Science and Programming in Python\"](https://ocw.mit.edu/courses/electrical-engineering-and-computer-science/6-0001-introduction-to-computer-science-and-programming-in-python-fall-2016/lecture-videos/index.htm)"
      ]
    },
    {
      "cell_type": "markdown",
      "metadata": {
        "id": "rQ_hdmqHO-pa"
      },
      "source": [
        "# Uczenie maszynowe w pigułce 💊\n",
        "\n",
        "Uczenie maszynowe to poddziedzina szeroko rozumianej **sztucznej inteligencji**. Metody uczenia maszynowego samodoskonalą się przy użyciu dostępnych danych. Podczas kursu będziemy mieć głównie do czynienia z **metodami nadzorowanymi**, w których dane treningowe mają przypisane interesujące nas etykiety. Na przykład w problemie przewidywania toksyczności związku będziemy mieli reprezentację związku i indykator jego toksyczności (toksyczny lub nietoksyczny). Gdy etykiety są dyskretne, tj. mamy klasy lub kategorie, mówimy o **metodach klasyfikacji**. W przypadku etykiet ciągłych (np. rozpuszczalność związku może być podana w gramach na litr rozpuszczalnika) mówimy o **metodach regresji**.\n",
        "\n",
        "Zahaczymy też o **metody nienadzorowane**, czyli takie, gdzie etykiety nie są znane i szukać będziemy zależności w danych bez dodatkowej wiedzy o przynależności do klas. Najbardziej typowym przykładem będą tutaj **metody generatywne**, do których będziemy dostarczać same reprezentacje związków, a model sam będzie uczył się generować nowe molekuły, a więc będzie uczył się cech wspólnych dla zbioru treningowego i podobieństwa. Innym przykładem metod nienadzorowanych jest **klastrowanie** zwane też **analizą skupisk**, którego celem jest wyodrębnienie grup podobnych obiektów.\n",
        "\n",
        "Istnieje również klasa metod, które same generują dla siebie dane poprzez interakcję ze środowiskiem (może być wirtualne). Takie algorytmy nazywamy **uczeniem przez wzmocnienie**. W projektowaniu leków często wykorzystuje się te metody, aby optymalizować generowane propozycje związków chemicznych.\n",
        "\n",
        "## Trochę formalizmu matematycznego\n",
        "\n",
        "Wzorki matematyczne nie są kluczowe do zrozumienia przedmiotu, ale pomagają w czytaniu publikacji, które z kolei mogą stać się literaturą potrzebną do realizacji projektu. Warto też ustandaryzować nazewnictwo zmiennych w kodzie.\n",
        "\n",
        "Aby uprościć notację podczas kursu, przyjmijmy, że dane będziemy oznaczać literą $x\\in \\mathcal{X}$, a etykiety literą $y\\in \\mathcal{Y}$. Modele będziemy oznaczać przez $f: \\mathcal{X} \\to \\mathcal{Y}$, a ich parametry literami greckimi, np. $\\phi$. Czasami będziemy pisać $f_\\phi$, aby zaznaczyć, że model $f$ zależy od parametrów $\\phi$.\n",
        "\n",
        "Dla przykładu w uczeniu nadzorowanym będziemy mieć zbiór danych $\\mathcal{D}=\\{(x_i, y_i): x_i \\in \\mathcal{X} \\land y_i \\in \\mathcal{Y}\\}$, a zadaniem będzie znalezienie takich parametrów modelu $\\phi$, żeby $f_\\phi(x) \\approx y$ dla dowolnego \"sensownego\" $x$ i jego prawdziwej etykiety $y$. Dla typowej regresji, nasz cel dla $N$ danych treningowych można opisać następująco:\n",
        "$$ {\\arg \\min}_\\phi \\frac{1}{N}\\sum_{i=1}^N (f_\\phi(x_i) - y_i)^2 $$\n",
        "\n",
        "*Na marginesie: W trakcie kursu zwykle $x$ będzie jakąś reprezentacją związku chemicznego.*\n",
        "\n",
        "## Materiały\n",
        "\n",
        "Kursy godne polecenia:\n",
        "- Materiały z kursu UJ [\"Sieci neuronowe\"](https://github.com/gmum/nn2019)\n",
        "- Kurs na platformie Coursera [\"Machine learning\"](https://www.coursera.org/learn/machine-learning)\n",
        "- Materiały z kursu UJ [\"Nauczanie maszynowe\"](https://github.com/gmum/ml2017)\n",
        "- Specjalizacja (seria kursów) na platformie Coursera [\"Deep learning specialization\"](https://www.coursera.org/specializations/deep-learning)"
      ]
    },
    {
      "cell_type": "markdown",
      "metadata": {
        "id": "jtN4034UO-pb"
      },
      "source": [
        "## Przykładowy kod regresji liniowej"
      ]
    },
    {
      "cell_type": "code",
      "metadata": {
        "colab": {
          "base_uri": "https://localhost:8080/",
          "height": 281
        },
        "id": "5YKayiYWO-pb",
        "outputId": "4f1f6954-935b-4af9-f51c-920304d4fe72"
      },
      "source": [
        "from sklearn.linear_model import LinearRegression\n",
        "\n",
        "import matplotlib.pyplot as plt\n",
        "import numpy as np\n",
        "\n",
        "\n",
        "x = np.random.uniform(0., 1., size=50)\n",
        "y = 2 * x + 3 + np.random.normal(scale=0.1, size=50)\n",
        "\n",
        "x_train = x[:40]\n",
        "y_train = y[:40]\n",
        "\n",
        "x_test = x[40:]\n",
        "y_test = y[40:]\n",
        "\n",
        "reg = LinearRegression()\n",
        "reg.fit(x_train.reshape(-1, 1), y_train)\n",
        "\n",
        "x_range = np.arange(0., 1., 0.01)\n",
        "y_pred = reg.predict(x_range.reshape(-1, 1))\n",
        "\n",
        "plt.plot(x_range, y_pred, c='k', ls='--', alpha=0.3)\n",
        "plt.scatter(x_train, y_train)\n",
        "plt.scatter(x_test, y_test, marker='v')\n",
        "plt.xlabel('feature $x$')\n",
        "plt.ylabel('label $y$')\n",
        "plt.show()"
      ],
      "execution_count": 12,
      "outputs": [
        {
          "output_type": "display_data",
          "data": {
            "image/png": "[encoded data removed]",
            "text/plain": [
              "<Figure size 432x288 with 1 Axes>"
            ]
          },
          "metadata": {
            "needs_background": "light"
          }
        }
      ]
    },
    {
      "cell_type": "markdown",
      "metadata": {
        "id": "wMigqRezO-pd"
      },
      "source": [
        "# Bariera chemia-komputer 🧪\n",
        "\n",
        "Związki chemiczne nie należą do danych najbardziej przyjaznych dla komputera. Ze względu na wilowymiarowość tych danych, nie da się ich w łatwy sposób zapisać na bitach dysku twardego. Do różnych zastosować sprawdzą się różne reprezentacje związków. Poniżej przedstawione są 2 standardowe reprezentacje molekularne. Pierwsza z nich służy do przechowywania zbiorów związków chemicznych na komputerze. Druga natomiast nadaje się do wykorzystania przez klasyczne modele uczenia maszynowego.\n",
        "\n",
        "*Na marginesie: Związki również w organizmie mają do pokonania wiele przeszkód, a jedną z nich jest bariera krew-mózg, do której nawiązuje tytuł sekcji. Niektórzy więc mogą poczuć się rozczarowani, że tabletka nie trafia prosto w źródło bólu, a mądry syropek do płuc. Więcej o przeszkodach leku na drodze do swojego celu omówione zostanie w późniejszej części kursu.*\n",
        "\n",
        "## SMILES\n",
        "\n",
        "SMILES jest reprezentacją tekstową związku. Jest to podstawowy rodzaj reprezentacji związku w zbiorach danych z dwóch prostych powodów:\n",
        "\n",
        "1. tekst łatwo zapisać do plików typu CSV,\n",
        "2. reprezentacja ta jednoznacznie identyfikuje związek (w dużym stopniu też jego ułożenie przestrzenne).\n",
        "\n",
        "Oczywiście nie brak też minusów tej reprezentacji. Jednym z nich jest niejednoznaczne przekształcenie w drugą stronę, a więc ten sam związek może być reprezentowany przez kilka różnych ciągów znakowych SMILES. Reprezentacja liniowa nie oddaje też złożoności struktur chemicznych.\n",
        "\n",
        "### Uproszczona procedura przekształcania związku na SMILES\n",
        "\n",
        "![smiles](https://upload.wikimedia.org/wikipedia/commons/0/00/SMILES.png)\n",
        "\n",
        "1. Przygotuj wzór strukturalny związku;\n",
        "2. Rozetnij wszystkie pierścienie (cykle), aby powstało spójne drzewo atomów;\n",
        "3. Wybierz dowolnie atom początkowy i wypisuj kolejne wiązania i symbole atomów, poruszając się po związku (kolejność DFS);\n",
        "4. Alternatywne ścieżki obejmuj w nawiasy, aby zaznaczyć rozgałęzienie;\n",
        "5. Atomy przy rozcięciu pierścieni (cykli) opatrz pasującymi indeksami liczbowymi (uważaj na kolizje indeksów!).\n",
        "\n",
        "Powyższy algorytm można rozszerzyć również o zasady kolejności, np. \"znajdź najdłuższą ścieżkę we wzorze strukturalnym i potraktuj jako główną\", co pozwoli na uzyskanie jednoznacznej reprezentacji, zwanej **kanonicznym SMILES**.\n",
        "\n",
        "Istnieją też oznaczenia pozwalające określić geometrię przestrzenną związku. Poniżej podane są związki w postaci SMILES i kod tworzący ich wizualizację 3D. Obejrzyj, jak znane leki prezentują się w przestrzeni.\n",
        "\n",
        "#### Popularne substancje z apteki (i nie tylko)\n",
        "\n",
        "1. Ibuprofen: `CC(C)CC1=CC=C(C=C1)C(C)C(=O)O` lub `CC(C)Cc1ccc(cc1)C(C)C(=O)O`\n",
        "2. Penicylina: `CC1(C(N2C(S1)C(C2=O)NC(=O)CC3=CC=CC=C3)C(=O)O)C` lub `CC1(C(N2C(S1)C(C2=O)NC(=O)CC1=CC=CC=C1)C(=O)O)C`\n",
        "3. Fluoksetyna: `CNCCC(C1=CC=CC=C1)OC2=CC=C(C=C2)C(F)(F)F`\n",
        "4. THC: `CCCCCC1=CC2=C(C3C=C(CCC3C(O2)(C)C)C)C(=C1)O`\n",
        "\n",
        "#### SMILES a ułożenie przestrzenne atomów\n",
        "\n",
        "Ułożenie przestrzenne ma duże znaczenie w projektowaniu leków. Czasem może się okazać, że 2 związki o takim samym wzorze strukturalnym (ale nie uwzględniającym geometrii), mają zupełnie inne działanie aktywne. Przykładem jest talidomid, który jest lekiem przeciwbólowym i przeciwwymiotnym, a jego lustrzane odbicie powoduje deformację płodu u osób w ciąży.\n",
        "\n",
        "(R)-talidomid: `C1CC(=O)NC(=O)[C@@H]1N2C(=O)C3=CC=CC=C3C2=O`\n",
        "\n",
        "(S)-talidomid: `C1CC(=O)NC(=O)[C@H]1N2C(=O)C3=CC=CC=C3C2=O`\n",
        "\n",
        "#### Podobieństwo struktur chemicznych substancji o podobnym działaniu\n",
        "\n",
        "Często związki o podobnym działaniu mają podobny wzór strukturalny lub podobne ułożenie przestrzenne. Wynika to z faktu, że częstym źródłem leków jest natura. Gdy określenie struktury związku naturalnego stało się możliwe, zaczęto udoskonalać syntetycznie te substancje, aby uzyskać mocniejszy efekt. Poniżej 3 substancje należące do grupy opioidów, z czego 2 pierwsze są pochodzenia naturalnego (z opium), a trzecia to syntetycznie otrzymany narkotyk.\n",
        "\n",
        "Czy widzisz różnice między tymi związkami?\n",
        "\n",
        "morfina: `CN1CC[C@]23[C@@H]4[C@H]1CC5=C2C(=C(C=C5)O)O[C@H]3[C@H](C=C4)O`\n",
        "\n",
        "kodeina: `COC1=C(O2)C3=C(C=C1)C[C@@H]4[C@]5([H])C=C[C@H](O)[C@H]2[C@@]53CCN4C`\n",
        "\n",
        "heroina: `CC(=O)OC1C=CC2C3CC4=C5C2(C1OC5=C(C=C4)OC(=O)C)CCN3C`"
      ]
    },
    {
      "cell_type": "code",
      "metadata": {
        "colab": {
          "base_uri": "https://localhost:8080/",
          "height": 50,
          "referenced_widgets": [
            "c94a1447b9064e258c80c0908b38a0ba",
            "0536490aebd44604944967bdb5e9a145",
            "65c8e833610b4596aee52d2c585421ac",
            "d274f4bb5e3740f3be894434d4cf10a7",
            "871880d153c145a1ac05f9d2a0b137a6",
            "8900544f6d5044168adcf1bb9c04831c",
            "70f07420d83c47eaa0e0d5a131dccdf9"
          ]
        },
        "id": "O5I8a92CO-pe",
        "outputId": "241d48fb-020b-4f91-f95d-f7eca81f53cd"
      },
      "source": [
        "import py3Dmol\n",
        "from rdkit import Chem\n",
        "from rdkit.Chem import AllChem\n",
        "\n",
        "from ipywidgets import interact\n",
        "\n",
        "\n",
        "@interact\n",
        "def show_molecule(smiles=''):\n",
        "    if not smiles:\n",
        "        return\n",
        "    mol = Chem.MolFromSmiles(smiles)\n",
        "    display(mol)\n",
        "    if not mol:\n",
        "        return\n",
        "    mol = Chem.AddHs(mol)\n",
        "    AllChem.EmbedMolecule(mol)\n",
        "    AllChem.MMFFOptimizeMolecule(mol)\n",
        "    mblock = Chem.MolToMolBlock(mol, kekulize=False)\n",
        "\n",
        "    view = py3Dmol.view(width=800, height=500)\n",
        "    view.addModel(Chem.MolToMolBlock(mol, kekulize=True), 'mol')\n",
        "    view.setStyle({'model': -1}, {\"stick\": {'color': 'white', 'radius': 0.15}, \"sphere\": {'radius': .4}})\n",
        "    view.zoomTo({'model': -1})\n",
        "    view.show()"
      ],
      "execution_count": 13,
      "outputs": [
        {
          "output_type": "display_data",
          "data": {
            "application/vnd.jupyter.widget-view+json": {
              "model_id": "c94a1447b9064e258c80c0908b38a0ba",
              "version_minor": 0,
              "version_major": 2
            },
            "text/plain": [
              "interactive(children=(Text(value='', description='smiles'), Output()), _dom_classes=('widget-interact',))"
            ]
          },
          "metadata": {}
        }
      ]
    },
    {
      "cell_type": "markdown",
      "metadata": {
        "id": "SgTu_brOO-pf"
      },
      "source": [
        "## Molekularne odciski palca\n",
        "\n",
        "Reprezentacja tekstowa nie jest idealna do wykorzystania w uczeniu maszynowym, choć ogromny postęp algorytmów z zakresu przetwarzania języka naturalnego umożliwił użycie i takiej reprezentacji. Sprowadzenie związku do liniowej postaci powoduje, że gubi się informacja o sąsiedztwie między atomami, co utrudnia analizę.\n",
        "\n",
        "Alternatywnym podejściem jest reprezentacja związku w postaci molekularnego odcisku palca (ang. fingerprint). Związek zamieniany jest na wektor liczb wynikających z istnienia określonych podstruktur w związku. Zestaw podstruktur może być zdefiniowany wprost, tak jak jest to na przykład w fingerprincie **MACCS** (Molecular ACCess System) składającym się z 166 bitów odpowiadających kluczom dopasowującym związek do określonych szablonów.\n",
        "\n",
        "Dużo więcej elastyczności dają te fingerprinty, których bity związane są z istnieniem zakodowanych sąsiedztw w grafie. Na przykład **ECFP** (Extended Connectivity FingerPrint) jest odciskiem wykorzystujący otoczenia atomów o zadanym promieniu. Dla każdego atomu w cząsteczce znajdowane jest sąsiedztwo atomów oddalonych o nie więcej niż ten właśnie promień. Sąsiedztwa te są kodowane liczbowo z uwzględnieniem rodzaju atomów (symboli pierwiastków) i haszowane, aby w końcu trafić na odpowiedni bit w fingerprincie. W tym wypadku, w przeciwieństwie do fingerprintów typu MACCS, nie pomijane są żadne atomy związku.\n",
        "\n",
        "![ecfp](https://docs.chemaxon.com/display/docs/images/download/attachments/1806333/ecfp_generation.png)\n",
        "\n",
        "Jak łatwo zauważyć, sporym minusem większości fingerprintów jest brak możliwości odtworzenia zakodowanego związku. Może bowiem istnieć kilka związków o takim samym odcisku, choćby przez kolizję haszy przy za małej liczbie bitów. Mimo tego reprezentacja ta osiąga bardzo dobre wyniki w uczeniu maszynowym, wypierając nawet deskryptory molekularne opisujące numerycznie cały związek (początkowo do reprezentowania związku używano własności, które łatwo wyliczyć teoretycznie lub otrzymać eksperymentalnie)."
      ]
    },
    {
      "cell_type": "markdown",
      "metadata": {
        "id": "EhMW-_NoO-pg"
      },
      "source": [
        "# Zadanie programistyczne 🤖\n",
        "\n",
        "Poniżej znajduje się kod wczytujący dane oraz pomocniczy szablon kodu treningowego. Celem zadania jest użycie reprezentacji fingerprintowej do stworzenia jak najlepszego modelu dla któregoś z dwóch zadań predykcyjnych. ESOL to zbiór danych dotyczący rozpuszczalności związków w wodzie. Jest to cecha krytyczna dla absorpcji leku w organizmie. Drugim zbiorem jest BBBP, czyli przenikanie bariery krew-mózg. To z kolei cecha kluczowa dla leków, które mają działać na ośrodkowy układ nerwowy.\n",
        "\n",
        "Zbiory różnią się rodzajem etykiety: dla ESOL-a jest to etykieta ciągła oznaczająca zlogarytmowane mole rozpuszczonego związku na litr wody, a w przypadku BBBP jest to klasyfikacja binarna (przechodzi lub nie przechodzi przez barierę)."
      ]
    },
    {
      "cell_type": "code",
      "metadata": {
        "id": "FBoWIJUj8YzH"
      },
      "source": [
        ""
      ],
      "execution_count": 13,
      "outputs": []
    },
    {
      "cell_type": "markdown",
      "metadata": {
        "id": "KQLl4n9bO-pg"
      },
      "source": [
        "## ESOL"
      ]
    },
    {
      "cell_type": "code",
      "metadata": {
        "colab": {
          "base_uri": "https://localhost:8080/"
        },
        "id": "prF4WxNMO-ph",
        "outputId": "3ab31c4d-ce88-47c6-9dbc-8988f560e424"
      },
      "source": [
        "import pandas as pd\n",
        "import numpy as np\n",
        "\n",
        "from typing import List, Tuple\n",
        "\n",
        "from mldd.metrics import mae, rmse, rocauc, r_squared\n",
        "\n",
        "from sklearn.ensemble import RandomForestRegressor\n",
        "from sklearn.svm import SVR\n",
        "\n",
        "\n",
        "\n",
        "def get_random_fold_indices(data, n_folds=10):\n",
        "    data_size = len(data)\n",
        "    indices = np.random.permutation(data_size)\n",
        "    fold_size = data_size / n_folds\n",
        "    return [indices[int(fold_size * i):int(fold_size * (i + 1))] for i in range(n_folds)]\n",
        "\n",
        "\n",
        "def save_fold_indices(path: str, fold_indices: List[np.ndarray]) -> None:\n",
        "    np.savez(path, **{f'fold{i}': indices for i, indices in enumerate(fold_indices)})\n",
        "\n",
        "\n",
        "def load_fold_indices(path: str) -> List[np.ndarray]:\n",
        "    fold_indices = np.load(path)\n",
        "    n_folds = len(fold_indices)\n",
        "    return [fold_indices[f'fold{i}'] for i in range(n_folds)]\n",
        "\n",
        "\n",
        "def split_data(data: pd.DataFrame, fold_indices: List[np.ndarray], test_fold_idx: int = 0, valid_fold_idx: int = 1) -> Tuple[pd.DataFrame, ...]:\n",
        "    n_folds = len(fold_indices)\n",
        "    train_folds = np.array([i for i in range(n_folds) if i not in (test_fold_idx, valid_fold_idx)])\n",
        "    train_indices = np.concatenate([fold_indices[fold_idx] for fold_idx in train_folds])\n",
        "    test_indices = fold_indices[test_fold_idx]\n",
        "    if valid_fold_idx is not None:\n",
        "        valid_indices = fold_indices[valid_fold_idx]\n",
        "        return data.iloc[train_indices], data.iloc[valid_indices], data.iloc[test_indices]\n",
        "    else:\n",
        "        return data.iloc[train_indices], data.iloc[test_indices]\n",
        "\n",
        "\n",
        "def cross_validate(data, fold_indices, preprocessing_fn=None, y_column=None):\n",
        "    n_folds = len(fold_indices)\n",
        "    for i in range(n_folds):\n",
        "        train_data, valid_data, test_data = split_data(\n",
        "            data, \n",
        "            fold_indices,\n",
        "            test_fold_idx=i,\n",
        "            valid_fold_idx=(i + 1) % n_folds\n",
        "        )\n",
        "        if preprocessing_fn is not None:\n",
        "            train_data, valid_data, test_data = (\n",
        "                preprocessing_fn(train_data),\n",
        "                preprocessing_fn(valid_data),\n",
        "                preprocessing_fn(test_data)\n",
        "            )\n",
        "        yield train_data, valid_data, test_data\n",
        "\n",
        "\n",
        "def load_esol(split_path='./data/esol/split.npz'):\n",
        "    df = pd.read_csv('https://deepchemdata.s3-us-west-1.amazonaws.com/datasets/delaney-processed.csv')\n",
        "    fold_indices = load_fold_indices(split_path)\n",
        "    return df, fold_indices\n",
        "\n",
        "\n",
        "class Featurizer:\n",
        "    def __init__(self, y_column, **kwargs):\n",
        "        self.y_column = y_column\n",
        "        self.__dict__.update(kwargs)\n",
        "    \n",
        "    def __call__(self, df):\n",
        "        raise NotImplementedError()\n",
        "\n",
        "\n",
        "class CheatingFeaturizer(Featurizer):\n",
        "    def __call__(self, df):\n",
        "        predictions = []\n",
        "        labels = []\n",
        "        predictions_column_name = 'ESOL predicted log solubility in mols per litre'\n",
        "        for i, row in df.iterrows():\n",
        "            predictions.append(row[predictions_column_name])\n",
        "            labels.append(row[self.y_column])\n",
        "        predictions = np.array(predictions)\n",
        "        labels = np.array(labels)\n",
        "        return predictions, labels\n",
        "        \n",
        "\n",
        "class ECFPFeaturizer(Featurizer):\n",
        "    def __init__(self, y_column, radius=2, length=1024, **kwargs):\n",
        "        self.radius = radius\n",
        "        self.length = length\n",
        "        super().__init__(y_column, **kwargs)\n",
        "    \n",
        "    def __call__(self, df):\n",
        "        fingerprints = []\n",
        "        labels = []\n",
        "        for i, row in df.iterrows():\n",
        "            y = row[self.y_column]\n",
        "            smiles = row.smiles\n",
        "            mol = Chem.MolFromSmiles(smiles)\n",
        "            fp = AllChem.GetMorganFingerprintAsBitVect(mol, self.radius, nBits=self.length)\n",
        "            fingerprints.append(fp)\n",
        "            labels.append(y)\n",
        "        fingerprints = np.array(fingerprints)\n",
        "        labels = np.array(labels)\n",
        "        return fingerprints, labels\n",
        "\n",
        "\n",
        "def train(X_train, y_train, X_valid, y_valid):\n",
        "    # TODO: create and train your model \n",
        "    model = SVR()\n",
        "    model.fit(X_train, y_train, )\n",
        "    return model\n",
        "\n",
        "\n",
        "def predict(model, X_test, y_test):\n",
        "    # TODO: use your trained model to predict solubility\n",
        "    return model.predict(X_test)\n",
        "\n",
        "\n",
        "df, fold_indices = load_esol()\n",
        "# TODO: write a new featurizer and replace the one below\n",
        "# featurizer = CheatingFeaturizer(y_column='measured log solubility in mols per litre')\n",
        "featurizer = ECFPFeaturizer(y_column='measured log solubility in mols per litre')\n",
        "scores = []\n",
        "for train_data, valid_data, test_data in cross_validate(df, fold_indices, preprocessing_fn=featurizer):\n",
        "    X_train, y_train = train_data\n",
        "    X_valid, y_valid = valid_data\n",
        "    X_test, y_test = test_data\n",
        "    model = train(X_train, y_train, X_valid, y_valid)\n",
        "    predictions = predict(model, X_test, y_test)\n",
        "    rmse_score = rmse(y_test, predictions)\n",
        "    mae_score = mae(y_test, predictions)\n",
        "    r2_score = r_squared(y_test, predictions)\n",
        "    scores.append([rmse_score, mae_score, r2_score])\n",
        "scores = np.array(scores)\n",
        "print('RMSE, MAE, R2 = ' + \\\n",
        "      ', '.join(f'{mean:.2f}±{std:.3f}' for mean, std in zip(scores.mean(axis=0), scores.std(axis=0))))"
      ],
      "execution_count": 32,
      "outputs": [
        {
          "output_type": "stream",
          "name": "stdout",
          "text": [
            "RMSE, MAE, R2 = 1.22±0.072, 0.90±0.055, 0.65±0.037\n"
          ]
        }
      ]
    },
    {
      "cell_type": "code",
      "metadata": {
        "colab": {
          "base_uri": "https://localhost:8080/",
          "height": 854
        },
        "id": "su3Z05jcO-ph",
        "outputId": "eb38451f-8bfd-47d5-e9fe-d12f76946af6"
      },
      "source": [
        "print('The most soluble compounds in the dataset:')\n",
        "smiles_list = df.sort_values('measured log solubility in mols per litre', ascending=False).iloc[:10].smiles\n",
        "display(Chem.Draw.MolsToGridImage([Chem.MolFromSmiles(smiles) for smiles in smiles_list], molsPerRow=5))\n",
        "print('The least soluble compounds in the dataset:')\n",
        "smiles_list = df.sort_values('measured log solubility in mols per litre', ascending=True).iloc[:10].smiles\n",
        "display(Chem.Draw.MolsToGridImage([Chem.MolFromSmiles(smiles) for smiles in smiles_list], molsPerRow=5))"
      ],
      "execution_count": 21,
      "outputs": [
        {
          "output_type": "stream",
          "name": "stdout",
          "text": [
            "The most soluble compounds in the dataset:\n"
          ]
        },
        {
          "output_type": "display_data",
          "data": {
            "image/png": "[encoded data removed]",
            "text/plain": [
              "<IPython.core.display.Image object>"
            ]
          },
          "metadata": {}
        },
        {
          "output_type": "stream",
          "name": "stdout",
          "text": [
            "The least soluble compounds in the dataset:\n"
          ]
        },
        {
          "output_type": "display_data",
          "data": {
            "image/png": "[encoded data removed]",
            "text/plain": [
              "<IPython.core.display.Image object>"
            ]
          },
          "metadata": {}
        }
      ]
    },
    {
      "cell_type": "markdown",
      "metadata": {
        "id": "X6Kn2MkEO-ph"
      },
      "source": [
        "## BBBP"
      ]
    },
    {
      "cell_type": "code",
      "metadata": {
        "id": "Y7s9GpN3O-pi"
      },
      "source": [
        "def load_train_val_test_indices(path: str) -> List[np.ndarray]:\n",
        "    fold_indices = np.load(path)\n",
        "    return fold_indices['test'], fold_indices['valid'], fold_indices['train']\n",
        "\n",
        "\n",
        "def load_bbbp(split_path='../data/bbbp/split.npz'):\n",
        "    df = pd.read_csv('https://deepchemdata.s3-us-west-1.amazonaws.com/datasets/BBBP.csv')\n",
        "    fold_indices = load_train_val_test_indices(split_path)\n",
        "    return df, fold_indices\n",
        "\n",
        "\n",
        "def train(X_train, y_train, X_valid, y_valid):\n",
        "    # TODO: create and train your model \n",
        "    model = None\n",
        "    return model\n",
        "\n",
        "\n",
        "def predict(model, X_test, y_test):\n",
        "    # TODO: use your trained model to predict solubility\n",
        "    return np.random.uniform(0., 1., size=len(y_test))\n",
        "\n",
        "\n",
        "class NullFeaturizer(Featurizer):\n",
        "    def __call__(self, df):\n",
        "        predictions = []\n",
        "        labels = []\n",
        "        for i, row in df.iterrows():\n",
        "            predictions.append(0)\n",
        "            labels.append(row[self.y_column])\n",
        "        predictions = np.array(predictions)\n",
        "        labels = np.array(labels)\n",
        "        return predictions, labels\n",
        "\n",
        "df, fold_indices = load_bbbp()\n",
        "# TODO: write a new featurizer and replace the one below\n",
        "featurizer = NullFeaturizer(y_column='p_np')\n",
        "\n",
        "train_data, valid_data, test_data = split_data(df, fold_indices)\n",
        "X_train, y_train = featurizer(train_data)\n",
        "X_valid, y_valid = featurizer(valid_data)\n",
        "X_test, y_test = featurizer(test_data)\n",
        "\n",
        "model = train(X_train, y_train, X_valid, y_valid)\n",
        "predictions = predict(model, X_test, y_test)\n",
        "rocauc_score = rocauc(y_test, predictions)\n",
        "print(f'ROC AUC = {rocauc_score:.2f}')"
      ],
      "execution_count": null,
      "outputs": []
    },
    {
      "cell_type": "markdown",
      "metadata": {
        "id": "vNIbjpC9O-pi"
      },
      "source": [
        "## Lista rankingowa\n",
        "\n",
        "Poniżej lista rankingowa rozwiązań z zajęć.\n",
        "\n",
        "### Rozpuszczalność (ESOL)\n",
        "\n",
        "| Pseudonim          | Reprezentacja         | Algorytm             | RMSE       | MAE        | R2         |\n",
        "| ------------------ | --------------------- | -------------------- | ---------- | ---------- | ---------- |\n",
        "| Delaney            | cLogP + RB + MWT + AP | Linear regression    | 0.91±0.052 | 0.70±0.051 | 0.81±0.023 |\n",
        "\n",
        "### Bariera krew-mózg (BBBP)\n",
        "\n",
        "| Pseudonim          | Reprezentacja   | Algorytm             | ROC AUC |\n",
        "| ------------------ | --------------- | -------------------- | ------- |"
      ]
    },
    {
      "cell_type": "markdown",
      "metadata": {
        "id": "fMeydx5FO-pi"
      },
      "source": [
        "# Q&A 🤔"
      ]
    },
    {
      "cell_type": "code",
      "metadata": {
        "id": "ghwWKweTO-pi"
      },
      "source": [
        ""
      ],
      "execution_count": null,
      "outputs": []
    }
  ]
}